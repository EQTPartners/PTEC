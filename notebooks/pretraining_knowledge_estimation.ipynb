{
 "cells": [
  {
   "cell_type": "code",
   "execution_count": 3,
   "metadata": {},
   "outputs": [],
   "source": [
    "import os\n",
    "import time\n",
    "import openai\n",
    "import numpy as np\n",
    "import pandas as pd\n",
    "from dotenv import load_dotenv\n",
    "from scipy.stats import mannwhitneyu\n",
    "from sectors.config import INDUSTRY_DATA_DIR\n",
    "\n",
    "\n",
    "load_dotenv()\n",
    "openai.organization = os.getenv(\"OPENAI_ORGANIZATION_ID\")\n",
    "openai.api_key = os.getenv(\"OPENAI_SECRET_KEY\")"
   ]
  },
  {
   "cell_type": "code",
   "execution_count": 4,
   "metadata": {},
   "outputs": [
    {
     "name": "stdout",
     "output_type": "stream",
     "text": [
      "Error occurred: The server is overloaded or not ready yet.\n",
      "Error occurred: The server is overloaded or not ready yet.\n",
      "Error occurred: The server is overloaded or not ready yet.\n",
      "Error occurred: The server is overloaded or not ready yet.\n"
     ]
    },
    {
     "data": {
      "text/plain": [
       "pretraining_knowledge\n",
       "False    680\n",
       "True     159\n",
       "Name: count, dtype: int64"
      ]
     },
     "execution_count": 4,
     "metadata": {},
     "output_type": "execute_result"
    }
   ],
   "source": [
    "def call_openai_api(prompt: str, model_name: str):\n",
    "    try:\n",
    "        out = (\n",
    "            openai.ChatCompletion.create(\n",
    "                model=model_name,\n",
    "                messages=[{\"role\": \"user\", \"content\": prompt}],\n",
    "                max_tokens=1,\n",
    "                temperature=0,\n",
    "            )\n",
    "            .choices[0]\n",
    "            .message.content\n",
    "        )\n",
    "        return out\n",
    "    except Exception as e:\n",
    "        print(f\"Error occurred: {e}\")\n",
    "        time.sleep(60)\n",
    "        return None\n",
    "    \n",
    "    \n",
    "def pretraining_knowledge(company_name: str):\n",
    "    out = False\n",
    "    while not out:\n",
    "        out = call_openai_api(f\"Do you have some kind of pretraining knowledge about a company called '{company_name}'? Answer with Yes or No.\",\n",
    "                              \"gpt-3.5-turbo\")\n",
    "    if \"yes\" in out.lower():\n",
    "        return True\n",
    "    elif \"no\" in out.lower():\n",
    "        return False\n",
    "    \n",
    "    \n",
    "TEST_PATH = INDUSTRY_DATA_DIR / \"test_preprocessed.json\"\n",
    "test = pd.read_json(TEST_PATH, lines=True)\n",
    "\n",
    "test[\"pretraining_knowledge\"] = test[\"legal_name\"].apply(pretraining_knowledge)\n",
    "test[\"pretraining_knowledge\"].value_counts()"
   ]
  },
  {
   "cell_type": "code",
   "execution_count": 5,
   "metadata": {},
   "outputs": [],
   "source": [
    "save_path = f\"{INDUSTRY_DATA_DIR}/test_pretraining_knowledge.json\"\n",
    "test.to_json(save_path, orient=\"records\", lines=True, index=True)"
   ]
  },
  {
   "attachments": {},
   "cell_type": "markdown",
   "metadata": {},
   "source": [
    "# Analysis"
   ]
  },
  {
   "cell_type": "code",
   "execution_count": 12,
   "metadata": {},
   "outputs": [
    {
     "data": {
      "text/plain": [
       "MannwhitneyuResult(statistic=50993.5, pvalue=0.2434340078492524)"
      ]
     },
     "execution_count": 12,
     "metadata": {},
     "output_type": "execute_result"
    }
   ],
   "source": [
    "path = f\"{INDUSTRY_DATA_DIR}/test_pretraining_knowledge.json\"\n",
    "test = pd.read_json(path, lines=True)\n",
    "\n",
    "mannwhitneyu(test[test[\"pretraining_knowledge\"]][\"pred_correct\"], test[~test[\"pretraining_knowledge\"]][\"pred_correct\"])"
   ]
  },
  {
   "cell_type": "code",
   "execution_count": 5,
   "metadata": {},
   "outputs": [
    {
     "data": {
      "text/plain": [
       "0.038482205113296156"
      ]
     },
     "execution_count": 5,
     "metadata": {},
     "output_type": "execute_result"
    }
   ],
   "source": [
    "n1 = 680\n",
    "n2 = 159\n",
    "\n",
    "N = 839\n",
    "U = 50993.5\n",
    "\n",
    "Z = abs((U - (n1*n2/2)) / np.sqrt((n1*n2*(n1+n2+1))/12))\n",
    "\n",
    "# Calculate the effect size\n",
    "r = Z / np.sqrt(N)\n",
    "r"
   ]
  }
 ],
 "metadata": {
  "kernelspec": {
   "display_name": "sectors",
   "language": "python",
   "name": "python3"
  },
  "language_info": {
   "codemirror_mode": {
    "name": "ipython",
    "version": 3
   },
   "file_extension": ".py",
   "mimetype": "text/x-python",
   "name": "python",
   "nbconvert_exporter": "python",
   "pygments_lexer": "ipython3",
   "version": "3.10.11"
  },
  "orig_nbformat": 4
 },
 "nbformat": 4,
 "nbformat_minor": 2
}
